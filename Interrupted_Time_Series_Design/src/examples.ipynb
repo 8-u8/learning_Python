{
 "cells": [
  {
   "cell_type": "markdown",
   "id": "268ecbb3",
   "metadata": {},
   "source": [
    "# Interrupted Time Series Analysis - 使用例\n",
    "\n",
    "このノートブックでは、`its_analysis`パッケージを使用した断続的時系列分析の例を示します。\n",
    "\n",
    "## 📚 カバーする内容\n",
    "\n",
    "1. **OLSモデル**: 複数グループ・複数介入に対応した基本的な線形回帰モデル\n",
    "2. **SARIMAXモデル**: 自己相関と移動平均を考慮した時系列モデル\n",
    "3. **Prophetモデル**: Facebookが開発したトレンドと季節性を柔軟にモデル化できるモデル\n",
    "4. **Markdownレポート生成**: 分析結果を包括的なレポートとして出力\n",
    "\n",
    "## 基本的な考え\n",
    "\n",
    "$$\n",
    "y_t = \\beta_0 + \\beta_1 t + \\beta_2 D_t + \\beta_3 \\Delta_t + \\sum_{j=1}^{p} \\eta_j X_{j,t} +\\epsilon_j\n",
    "$$\n",
    "\n",
    "ここで、\n",
    "- $y_t$: 時点 $t$ におけるアウトカム\n",
    "- $t$: 時点\n",
    "- $D_t$: 介入が行われた後の時点では1、それ以前の時点では0\n",
    "- $\\Delta_t$: 介入後の時点における時間の経過を表す\n",
    "- $X_{j,t}$: 共変量\n",
    "- $\\epsilon_t$: 誤差項"
   ]
  },
  {
   "cell_type": "markdown",
   "id": "4a49bcc3",
   "metadata": {},
   "source": [
    "## セットアップ\n",
    "\n",
    "必要なライブラリとモジュールをインポートします。"
   ]
  },
  {
   "cell_type": "code",
   "execution_count": 9,
   "id": "5c624df3",
   "metadata": {},
   "outputs": [
    {
     "name": "stdout",
     "output_type": "stream",
     "text": [
      "✅ インポート完了\n"
     ]
    }
   ],
   "source": [
    "from module.its_analysis import (\n",
    "    ITSDataPreprocessor,\n",
    "    ITSModelOLS,\n",
    "    ITSModelSARIMAX,\n",
    "    ITSModelProphet,\n",
    "    ITSVisualizer\n",
    ")\n",
    "from module import generate_markdown_report\n",
    "import numpy as np\n",
    "import pandas as pd\n",
    "import matplotlib.pyplot as plt\n",
    "import statsmodels.api as sm\n",
    "import sys\n",
    "from pathlib import Path\n",
    "\n",
    "# モジュールのインポートパス設定\n",
    "sys.path.insert(0, str(Path.cwd().parent / 'src'))\n",
    "\n",
    "print(\"✅ インポート完了\")"
   ]
  },
  {
   "cell_type": "markdown",
   "id": "160aa9f7",
   "metadata": {},
   "source": [
    "## データの準備\n",
    "\n",
    "Cigarデータセット（たばこ販売データ）を使用します。\n",
    "- **state**: 州ID\n",
    "- **year**: 年\n",
    "- **sales**: たばこ販売量（アウトカム変数）\n",
    "- **price**: たばこ価格（共変量）\n",
    "- **pop**: 人口（共変量）"
   ]
  },
  {
   "cell_type": "code",
   "execution_count": 10,
   "id": "9eb9d28d",
   "metadata": {},
   "outputs": [
    {
     "name": "stdout",
     "output_type": "stream",
     "text": [
      "データ形状: (56, 5)\n",
      "\n",
      "最初の5行:\n"
     ]
    },
    {
     "data": {
      "text/html": [
       "<div>\n",
       "<style scoped>\n",
       "    .dataframe tbody tr th:only-of-type {\n",
       "        vertical-align: middle;\n",
       "    }\n",
       "\n",
       "    .dataframe tbody tr th {\n",
       "        vertical-align: top;\n",
       "    }\n",
       "\n",
       "    .dataframe thead th {\n",
       "        text-align: right;\n",
       "    }\n",
       "</style>\n",
       "<table border=\"1\" class=\"dataframe\">\n",
       "  <thead>\n",
       "    <tr style=\"text-align: right;\">\n",
       "      <th></th>\n",
       "      <th>state</th>\n",
       "      <th>year</th>\n",
       "      <th>price</th>\n",
       "      <th>pop</th>\n",
       "      <th>sales</th>\n",
       "    </tr>\n",
       "  </thead>\n",
       "  <tbody>\n",
       "    <tr>\n",
       "      <th>32</th>\n",
       "      <td>3</td>\n",
       "      <td>65</td>\n",
       "      <td>24.2</td>\n",
       "      <td>1575.0</td>\n",
       "      <td>123.2</td>\n",
       "    </tr>\n",
       "    <tr>\n",
       "      <th>33</th>\n",
       "      <td>3</td>\n",
       "      <td>66</td>\n",
       "      <td>29.6</td>\n",
       "      <td>1609.0</td>\n",
       "      <td>113.9</td>\n",
       "    </tr>\n",
       "    <tr>\n",
       "      <th>34</th>\n",
       "      <td>3</td>\n",
       "      <td>67</td>\n",
       "      <td>29.2</td>\n",
       "      <td>1637.0</td>\n",
       "      <td>117.1</td>\n",
       "    </tr>\n",
       "    <tr>\n",
       "      <th>35</th>\n",
       "      <td>3</td>\n",
       "      <td>68</td>\n",
       "      <td>31.3</td>\n",
       "      <td>1667.0</td>\n",
       "      <td>115.6</td>\n",
       "    </tr>\n",
       "    <tr>\n",
       "      <th>36</th>\n",
       "      <td>3</td>\n",
       "      <td>69</td>\n",
       "      <td>36.1</td>\n",
       "      <td>1693.0</td>\n",
       "      <td>113.8</td>\n",
       "    </tr>\n",
       "  </tbody>\n",
       "</table>\n",
       "</div>"
      ],
      "text/plain": [
       "    state  year  price     pop  sales\n",
       "32      3    65   24.2  1575.0  123.2\n",
       "33      3    66   29.6  1609.0  113.9\n",
       "34      3    67   29.2  1637.0  117.1\n",
       "35      3    68   31.3  1667.0  115.6\n",
       "36      3    69   36.1  1693.0  113.8"
      ]
     },
     "execution_count": 10,
     "metadata": {},
     "output_type": "execute_result"
    }
   ],
   "source": [
    "# Cigarデータセットの読み込み\n",
    "cigar = sm.datasets.get_rdataset(\"Cigar\", \"Ecdat\").data\n",
    "\n",
    "# 使用するデータの準備\n",
    "state = [3, 5]\n",
    "timestamp = [75, 80, 85]  # 複数の介入ポイント\n",
    "\n",
    "# サブセットを作成\n",
    "usecols = ['state', 'year', 'price', 'pop', 'sales']\n",
    "cigar_model = cigar.loc[(cigar['state'].isin(state)) &\n",
    "                        (cigar['year'] >= 65), usecols].copy()\n",
    "\n",
    "print(f\"データ形状: {cigar_model.shape}\")\n",
    "print(f\"\\n最初の5行:\")\n",
    "cigar_model.head()"
   ]
  },
  {
   "cell_type": "markdown",
   "id": "ffe92dd8",
   "metadata": {},
   "source": [
    "---\n",
    "\n",
    "## 1. OLSモデルによる複数介入分析\n",
    "\n",
    "最も基本的な線形回帰モデルで、複数のグループと複数の介入ポイントに対応しています。"
   ]
  },
  {
   "cell_type": "code",
   "execution_count": 11,
   "id": "39a781d2",
   "metadata": {},
   "outputs": [
    {
     "name": "stdout",
     "output_type": "stream",
     "text": [
      "================================================================================\n",
      "1. OLSモデルによる複数介入分析\n",
      "================================================================================\n",
      "✅ OLSモデルのフィッティング完了\n"
     ]
    }
   ],
   "source": [
    "print(\"=\" * 80)\n",
    "print(\"1. OLSモデルによる複数介入分析\")\n",
    "print(\"=\" * 80)\n",
    "\n",
    "model_ols = ITSModelOLS(\n",
    "    time_column='year',\n",
    "    intervention_points=timestamp,\n",
    "    group_column='state'\n",
    ")\n",
    "\n",
    "# モデルのフィッティング\n",
    "model_ols.fit(cigar_model, target_column='sales', covariates=['price', 'pop'])\n",
    "\n",
    "print(\"✅ OLSモデルのフィッティング完了\")"
   ]
  },
  {
   "cell_type": "markdown",
   "id": "4b222803",
   "metadata": {},
   "source": [
    "### 介入効果の確認\n",
    "\n",
    "`calculate_intervention_effect()`メソッドは、期間別に集約された介入効果を返します。"
   ]
  },
  {
   "cell_type": "code",
   "execution_count": 12,
   "id": "9ae0929a",
   "metadata": {},
   "outputs": [
    {
     "name": "stdout",
     "output_type": "stream",
     "text": [
      "\n",
      "介入効果DataFrame:\n"
     ]
    },
    {
     "data": {
      "text/html": [
       "<div>\n",
       "<style scoped>\n",
       "    .dataframe tbody tr th:only-of-type {\n",
       "        vertical-align: middle;\n",
       "    }\n",
       "\n",
       "    .dataframe tbody tr th {\n",
       "        vertical-align: top;\n",
       "    }\n",
       "\n",
       "    .dataframe thead th {\n",
       "        text-align: right;\n",
       "    }\n",
       "</style>\n",
       "<table border=\"1\" class=\"dataframe\">\n",
       "  <thead>\n",
       "    <tr style=\"text-align: right;\">\n",
       "      <th></th>\n",
       "      <th>state</th>\n",
       "      <th>Period</th>\n",
       "      <th>Actual_mean</th>\n",
       "      <th>Predicted_mean</th>\n",
       "      <th>Counterfactual_mean</th>\n",
       "      <th>Effect_mean</th>\n",
       "    </tr>\n",
       "  </thead>\n",
       "  <tbody>\n",
       "    <tr>\n",
       "      <th>0</th>\n",
       "      <td>3</td>\n",
       "      <td>Intervention_D_1</td>\n",
       "      <td>123.0200</td>\n",
       "      <td>124.072986</td>\n",
       "      <td>120.525234</td>\n",
       "      <td>2.494766</td>\n",
       "    </tr>\n",
       "    <tr>\n",
       "      <th>1</th>\n",
       "      <td>3</td>\n",
       "      <td>Intervention_D_2</td>\n",
       "      <td>114.4600</td>\n",
       "      <td>114.012932</td>\n",
       "      <td>114.757661</td>\n",
       "      <td>-0.297661</td>\n",
       "    </tr>\n",
       "    <tr>\n",
       "      <th>2</th>\n",
       "      <td>3</td>\n",
       "      <td>Intervention_D_3</td>\n",
       "      <td>96.1500</td>\n",
       "      <td>92.469182</td>\n",
       "      <td>99.461268</td>\n",
       "      <td>-3.311268</td>\n",
       "    </tr>\n",
       "    <tr>\n",
       "      <th>3</th>\n",
       "      <td>3</td>\n",
       "      <td>Pre-intervention</td>\n",
       "      <td>119.4800</td>\n",
       "      <td>123.372945</td>\n",
       "      <td>123.372945</td>\n",
       "      <td>-3.892945</td>\n",
       "    </tr>\n",
       "    <tr>\n",
       "      <th>4</th>\n",
       "      <td>5</td>\n",
       "      <td>Intervention_D_1</td>\n",
       "      <td>125.9000</td>\n",
       "      <td>124.847014</td>\n",
       "      <td>121.299263</td>\n",
       "      <td>4.600737</td>\n",
       "    </tr>\n",
       "    <tr>\n",
       "      <th>5</th>\n",
       "      <td>5</td>\n",
       "      <td>Intervention_D_2</td>\n",
       "      <td>113.9600</td>\n",
       "      <td>114.407068</td>\n",
       "      <td>115.151797</td>\n",
       "      <td>-1.191797</td>\n",
       "    </tr>\n",
       "    <tr>\n",
       "      <th>6</th>\n",
       "      <td>5</td>\n",
       "      <td>Intervention_D_3</td>\n",
       "      <td>85.8125</td>\n",
       "      <td>89.493318</td>\n",
       "      <td>96.485405</td>\n",
       "      <td>-10.672905</td>\n",
       "    </tr>\n",
       "    <tr>\n",
       "      <th>7</th>\n",
       "      <td>5</td>\n",
       "      <td>Pre-intervention</td>\n",
       "      <td>127.9400</td>\n",
       "      <td>124.047055</td>\n",
       "      <td>124.047055</td>\n",
       "      <td>3.892945</td>\n",
       "    </tr>\n",
       "  </tbody>\n",
       "</table>\n",
       "</div>"
      ],
      "text/plain": [
       "   state            Period  Actual_mean  Predicted_mean  Counterfactual_mean  \\\n",
       "0      3  Intervention_D_1     123.0200      124.072986           120.525234   \n",
       "1      3  Intervention_D_2     114.4600      114.012932           114.757661   \n",
       "2      3  Intervention_D_3      96.1500       92.469182            99.461268   \n",
       "3      3  Pre-intervention     119.4800      123.372945           123.372945   \n",
       "4      5  Intervention_D_1     125.9000      124.847014           121.299263   \n",
       "5      5  Intervention_D_2     113.9600      114.407068           115.151797   \n",
       "6      5  Intervention_D_3      85.8125       89.493318            96.485405   \n",
       "7      5  Pre-intervention     127.9400      124.047055           124.047055   \n",
       "\n",
       "   Effect_mean  \n",
       "0     2.494766  \n",
       "1    -0.297661  \n",
       "2    -3.311268  \n",
       "3    -3.892945  \n",
       "4     4.600737  \n",
       "5    -1.191797  \n",
       "6   -10.672905  \n",
       "7     3.892945  "
      ]
     },
     "execution_count": 12,
     "metadata": {},
     "output_type": "execute_result"
    }
   ],
   "source": [
    "# 介入効果のDataFrame出力\n",
    "effect_df = model_ols.calculate_intervention_effect()\n",
    "print(\"\\n介入効果DataFrame:\")\n",
    "effect_df"
   ]
  },
  {
   "cell_type": "code",
   "execution_count": 13,
   "id": "04f4528f",
   "metadata": {},
   "outputs": [
    {
     "name": "stdout",
     "output_type": "stream",
     "text": [
      "\n",
      "各期間の平均効果:\n",
      "  state=3, Intervention_D_1: Actual_mean=123.02, Counterfactual_mean=120.53, Effect_mean=2.49\n",
      "  state=5, Intervention_D_1: Actual_mean=125.90, Counterfactual_mean=121.30, Effect_mean=4.60\n",
      "  state=3, Intervention_D_2: Actual_mean=114.46, Counterfactual_mean=114.76, Effect_mean=-0.30\n",
      "  state=5, Intervention_D_2: Actual_mean=113.96, Counterfactual_mean=115.15, Effect_mean=-1.19\n",
      "  state=3, Intervention_D_3: Actual_mean=96.15, Counterfactual_mean=99.46, Effect_mean=-3.31\n",
      "  state=5, Intervention_D_3: Actual_mean=85.81, Counterfactual_mean=96.49, Effect_mean=-10.67\n"
     ]
    }
   ],
   "source": [
    "# 各期間の平均効果を詳細表示\n",
    "print(\"\\n各期間の平均効果:\")\n",
    "for period in effect_df['Period'].unique():\n",
    "    if period != 'Pre-intervention':\n",
    "        period_data = effect_df[effect_df['Period'] == period]\n",
    "        if 'state' in period_data.columns:\n",
    "            # state別に集計\n",
    "            for state_val in period_data['state'].unique():\n",
    "                state_data = period_data[period_data['state'] == state_val]\n",
    "                print(f\"  state={state_val}, {period}: \"\n",
    "                      f\"Actual_mean={state_data['Actual_mean'].values[0]:.2f}, \"\n",
    "                      f\"Counterfactual_mean={state_data['Counterfactual_mean'].values[0]:.2f}, \"\n",
    "                      f\"Effect_mean={state_data['Effect_mean'].values[0]:.2f}\")\n",
    "        else:\n",
    "            print(f\"  {period}: \"\n",
    "                  f\"Actual_mean={period_data['Actual_mean'].values[0]:.2f}, \"\n",
    "                  f\"Counterfactual_mean={period_data['Counterfactual_mean'].values[0]:.2f}, \"\n",
    "                  f\"Effect_mean={period_data['Effect_mean'].values[0]:.2f}\")"
   ]
  },
  {
   "cell_type": "markdown",
   "id": "1acdf893",
   "metadata": {},
   "source": [
    "### 可視化"
   ]
  },
  {
   "cell_type": "code",
   "execution_count": 14,
   "id": "00dee739",
   "metadata": {},
   "outputs": [
    {
     "name": "stdout",
     "output_type": "stream",
     "text": [
      "図を保存しました: output/example_ols_multiple_interventions.png\n"
     ]
    },
    {
     "data": {
      "image/png": "[encoded data removed]",
      "text/plain": [
       "<Figure size 1200x400 with 2 Axes>"
      ]
     },
     "metadata": {},
     "output_type": "display_data"
    },
    {
     "name": "stdout",
     "output_type": "stream",
     "text": [
      "\n",
      "✅ 可視化を保存しました: output/example_ols_multiple_interventions.png\n"
     ]
    }
   ],
   "source": [
    "# 可視化\n",
    "visualizer = ITSVisualizer(model_ols)\n",
    "fig = visualizer.plot(save_path='output/example_ols_multiple_interventions.png')\n",
    "plt.show()\n",
    "print(\"\\n✅ 可視化を保存しました: output/example_ols_multiple_interventions.png\")"
   ]
  },
  {
   "cell_type": "markdown",
   "id": "7621d706",
   "metadata": {},
   "source": [
    "---\n",
    "\n",
    "## 2. SARIMAXモデルによる分析\n",
    "\n",
    "自己相関と移動平均を考慮したSARIMAXモデルを使用します。\n",
    "ここでは単一グループ（state=3のみ）で分析します。"
   ]
  },
  {
   "cell_type": "code",
   "execution_count": 15,
   "id": "c859f4b4",
   "metadata": {},
   "outputs": [
    {
     "name": "stdout",
     "output_type": "stream",
     "text": [
      "================================================================================\n",
      "2. SARIMAXモデルによる分析（state=3のみ）\n",
      "================================================================================\n",
      "✅ SARIMAXモデルのフィッティング完了\n"
     ]
    }
   ],
   "source": [
    "print(\"=\" * 80)\n",
    "print(\"2. SARIMAXモデルによる分析（state=3のみ）\")\n",
    "print(\"=\" * 80)\n",
    "\n",
    "cigar_single = cigar_model[cigar_model['state'] == 3].copy()\n",
    "\n",
    "model_sarimax = ITSModelSARIMAX(\n",
    "    time_column='year',\n",
    "    intervention_points=timestamp\n",
    ")\n",
    "\n",
    "# モデルのフィッティング（Optunaチューニングは時間がかかるのでスキップ）\n",
    "model_sarimax.fit(cigar_single, target_column='sales', order=(1, 0, 1))\n",
    "\n",
    "print(\"✅ SARIMAXモデルのフィッティング完了\")"
   ]
  },
  {
   "cell_type": "code",
   "execution_count": 23,
   "id": "2ad46e4b",
   "metadata": {},
   "outputs": [
    {
     "name": "stdout",
     "output_type": "stream",
     "text": [
      "\n",
      "介入効果DataFrame:\n"
     ]
    },
    {
     "data": {
      "text/html": [
       "<div>\n",
       "<style scoped>\n",
       "    .dataframe tbody tr th:only-of-type {\n",
       "        vertical-align: middle;\n",
       "    }\n",
       "\n",
       "    .dataframe tbody tr th {\n",
       "        vertical-align: top;\n",
       "    }\n",
       "\n",
       "    .dataframe thead th {\n",
       "        text-align: right;\n",
       "    }\n",
       "</style>\n",
       "<table border=\"1\" class=\"dataframe\">\n",
       "  <thead>\n",
       "    <tr style=\"text-align: right;\">\n",
       "      <th></th>\n",
       "      <th>Period</th>\n",
       "      <th>Actual_mean</th>\n",
       "      <th>Predicted_mean</th>\n",
       "      <th>Counterfactual_mean</th>\n",
       "      <th>Effect_mean</th>\n",
       "    </tr>\n",
       "  </thead>\n",
       "  <tbody>\n",
       "    <tr>\n",
       "      <th>0</th>\n",
       "      <td>Intervention_D_1</td>\n",
       "      <td>123.02</td>\n",
       "      <td>124.398421</td>\n",
       "      <td>80.393245</td>\n",
       "      <td>42.626755</td>\n",
       "    </tr>\n",
       "    <tr>\n",
       "      <th>1</th>\n",
       "      <td>Intervention_D_2</td>\n",
       "      <td>114.46</td>\n",
       "      <td>121.204112</td>\n",
       "      <td>79.264998</td>\n",
       "      <td>35.195002</td>\n",
       "    </tr>\n",
       "    <tr>\n",
       "      <th>2</th>\n",
       "      <td>Intervention_D_3</td>\n",
       "      <td>96.15</td>\n",
       "      <td>96.051117</td>\n",
       "      <td>77.822927</td>\n",
       "      <td>18.327073</td>\n",
       "    </tr>\n",
       "    <tr>\n",
       "      <th>3</th>\n",
       "      <td>Pre-intervention</td>\n",
       "      <td>119.48</td>\n",
       "      <td>105.971312</td>\n",
       "      <td>82.117848</td>\n",
       "      <td>37.362152</td>\n",
       "    </tr>\n",
       "  </tbody>\n",
       "</table>\n",
       "</div>"
      ],
      "text/plain": [
       "             Period  Actual_mean  Predicted_mean  Counterfactual_mean  \\\n",
       "0  Intervention_D_1       123.02      124.398421            80.393245   \n",
       "1  Intervention_D_2       114.46      121.204112            79.264998   \n",
       "2  Intervention_D_3        96.15       96.051117            77.822927   \n",
       "3  Pre-intervention       119.48      105.971312            82.117848   \n",
       "\n",
       "   Effect_mean  \n",
       "0    42.626755  \n",
       "1    35.195002  \n",
       "2    18.327073  \n",
       "3    37.362152  "
      ]
     },
     "execution_count": 23,
     "metadata": {},
     "output_type": "execute_result"
    }
   ],
   "source": [
    "# 介入効果\n",
    "effect_df_sarimax = model_sarimax.calculate_intervention_effect()\n",
    "print(\"\\n介入効果DataFrame:\")\n",
    "effect_df_sarimax"
   ]
  },
  {
   "cell_type": "code",
   "execution_count": 5,
   "id": "18139fa0",
   "metadata": {},
   "outputs": [
    {
     "ename": "NameError",
     "evalue": "name 'model_sarimax' is not defined",
     "output_type": "error",
     "traceback": [
      "\u001b[31m---------------------------------------------------------------------------\u001b[39m",
      "\u001b[31mNameError\u001b[39m                                 Traceback (most recent call last)",
      "\u001b[36mCell\u001b[39m\u001b[36m \u001b[39m\u001b[32mIn[5]\u001b[39m\u001b[32m, line 2\u001b[39m\n\u001b[32m      1\u001b[39m \u001b[38;5;66;03m# 可視化\u001b[39;00m\n\u001b[32m----> \u001b[39m\u001b[32m2\u001b[39m visualizer_sarimax = ITSVisualizer(\u001b[43mmodel_sarimax\u001b[49m)\n\u001b[32m      3\u001b[39m fig = visualizer_sarimax.plot(save_path=\u001b[33m'\u001b[39m\u001b[33moutput/example_sarimax.png\u001b[39m\u001b[33m'\u001b[39m)\n\u001b[32m      4\u001b[39m plt.show()\n",
      "\u001b[31mNameError\u001b[39m: name 'model_sarimax' is not defined"
     ]
    }
   ],
   "source": [
    "# 可視化\n",
    "visualizer_sarimax = ITSVisualizer(model_sarimax)\n",
    "fig = visualizer_sarimax.plot(save_path='output/example_sarimax.png')\n",
    "plt.show()\n",
    "print(\"\\n✅ 可視化を保存しました: output/example_sarimax.png\")"
   ]
  },
  {
   "cell_type": "markdown",
   "id": "a398f327",
   "metadata": {},
   "source": [
    "---\n",
    "\n",
    "## 3. Prophetモデルによる分析\n",
    "\n",
    "Facebook Prophetを使用した時系列分析です。\n",
    "トレンドと季節性を柔軟にモデル化できます。"
   ]
  },
  {
   "cell_type": "code",
   "execution_count": 6,
   "id": "45043298",
   "metadata": {},
   "outputs": [
    {
     "name": "stdout",
     "output_type": "stream",
     "text": [
      "================================================================================\n",
      "3. Prophetモデルによる分析（state=3のみ）\n",
      "================================================================================\n"
     ]
    },
    {
     "ename": "NameError",
     "evalue": "name 'timestamp' is not defined",
     "output_type": "error",
     "traceback": [
      "\u001b[31m---------------------------------------------------------------------------\u001b[39m",
      "\u001b[31mNameError\u001b[39m                                 Traceback (most recent call last)",
      "\u001b[36mCell\u001b[39m\u001b[36m \u001b[39m\u001b[32mIn[6]\u001b[39m\u001b[32m, line 7\u001b[39m\n\u001b[32m      2\u001b[39m \u001b[38;5;28mprint\u001b[39m(\u001b[33m\"\u001b[39m\u001b[33m3. Prophetモデルによる分析（state=3のみ）\u001b[39m\u001b[33m\"\u001b[39m)\n\u001b[32m      3\u001b[39m \u001b[38;5;28mprint\u001b[39m(\u001b[33m\"\u001b[39m\u001b[33m=\u001b[39m\u001b[33m\"\u001b[39m * \u001b[32m80\u001b[39m)\n\u001b[32m      5\u001b[39m model_prophet = ITSModelProphet(\n\u001b[32m      6\u001b[39m     time_column=\u001b[33m'\u001b[39m\u001b[33myear\u001b[39m\u001b[33m'\u001b[39m,\n\u001b[32m----> \u001b[39m\u001b[32m7\u001b[39m     intervention_points=\u001b[43mtimestamp\u001b[49m\n\u001b[32m      8\u001b[39m )\n\u001b[32m     10\u001b[39m \u001b[38;5;66;03m# モデルのフィッティング\u001b[39;00m\n\u001b[32m     11\u001b[39m model_prophet.fit(cigar_single, target_column=\u001b[33m'\u001b[39m\u001b[33msales\u001b[39m\u001b[33m'\u001b[39m)\n",
      "\u001b[31mNameError\u001b[39m: name 'timestamp' is not defined"
     ]
    }
   ],
   "source": [
    "print(\"=\" * 80)\n",
    "print(\"3. Prophetモデルによる分析（state=3のみ）\")\n",
    "print(\"=\" * 80)\n",
    "\n",
    "model_prophet = ITSModelProphet(\n",
    "    time_column='year',\n",
    "    intervention_points=timestamp\n",
    ")\n",
    "\n",
    "# モデルのフィッティング\n",
    "model_prophet.fit(cigar_single, target_column='sales')\n",
    "\n",
    "print(\"✅ Prophetモデルのフィッティング完了\")"
   ]
  },
  {
   "cell_type": "code",
   "execution_count": 7,
   "id": "c250a43c",
   "metadata": {},
   "outputs": [
    {
     "ename": "NameError",
     "evalue": "name 'model_prophet' is not defined",
     "output_type": "error",
     "traceback": [
      "\u001b[31m---------------------------------------------------------------------------\u001b[39m",
      "\u001b[31mNameError\u001b[39m                                 Traceback (most recent call last)",
      "\u001b[36mCell\u001b[39m\u001b[36m \u001b[39m\u001b[32mIn[7]\u001b[39m\u001b[32m, line 2\u001b[39m\n\u001b[32m      1\u001b[39m \u001b[38;5;66;03m# 介入効果\u001b[39;00m\n\u001b[32m----> \u001b[39m\u001b[32m2\u001b[39m effect_df_prophet = \u001b[43mmodel_prophet\u001b[49m.calculate_intervention_effect()\n\u001b[32m      3\u001b[39m \u001b[38;5;28mprint\u001b[39m(\u001b[33m\"\u001b[39m\u001b[38;5;130;01m\\n\u001b[39;00m\u001b[33m介入効果DataFrame:\u001b[39m\u001b[33m\"\u001b[39m)\n\u001b[32m      4\u001b[39m effect_df_prophet\n",
      "\u001b[31mNameError\u001b[39m: name 'model_prophet' is not defined"
     ]
    }
   ],
   "source": [
    "# 介入効果\n",
    "effect_df_prophet = model_prophet.calculate_intervention_effect()\n",
    "print(\"\\n介入効果DataFrame:\")\n",
    "effect_df_prophet"
   ]
  },
  {
   "cell_type": "code",
   "execution_count": 8,
   "id": "e9cde078",
   "metadata": {},
   "outputs": [
    {
     "ename": "NameError",
     "evalue": "name 'model_prophet' is not defined",
     "output_type": "error",
     "traceback": [
      "\u001b[31m---------------------------------------------------------------------------\u001b[39m",
      "\u001b[31mNameError\u001b[39m                                 Traceback (most recent call last)",
      "\u001b[36mCell\u001b[39m\u001b[36m \u001b[39m\u001b[32mIn[8]\u001b[39m\u001b[32m, line 2\u001b[39m\n\u001b[32m      1\u001b[39m \u001b[38;5;66;03m# 可視化\u001b[39;00m\n\u001b[32m----> \u001b[39m\u001b[32m2\u001b[39m visualizer_prophet = ITSVisualizer(\u001b[43mmodel_prophet\u001b[49m)\n\u001b[32m      3\u001b[39m fig = visualizer_prophet.plot(save_path=\u001b[33m'\u001b[39m\u001b[33moutput/example_prophet.png\u001b[39m\u001b[33m'\u001b[39m)\n\u001b[32m      4\u001b[39m plt.show()\n",
      "\u001b[31mNameError\u001b[39m: name 'model_prophet' is not defined"
     ]
    }
   ],
   "source": [
    "# 可視化\n",
    "visualizer_prophet = ITSVisualizer(model_prophet)\n",
    "fig = visualizer_prophet.plot(save_path='output/example_prophet.png')\n",
    "plt.show()\n",
    "print(\"\\n✅ 可視化を保存しました: output/example_prophet.png\")"
   ]
  },
  {
   "cell_type": "markdown",
   "id": "e3267aca",
   "metadata": {},
   "source": [
    "---\n",
    "\n",
    "## 4. Markdownレポートの生成\n",
    "\n",
    "すべての分析結果を包括的なMarkdownレポートとして出力します。"
   ]
  },
  {
   "cell_type": "code",
   "execution_count": null,
   "id": "01d43f83",
   "metadata": {},
   "outputs": [],
   "source": [
    "print(\"=\" * 80)\n",
    "print(\"4. Markdownレポートの生成\")\n",
    "print(\"=\" * 80)\n",
    "print(\"📝 分析結果をMarkdownレポートにまとめています...\")\n",
    "\n",
    "try:\n",
    "    report_path = generate_markdown_report(output_path='output/analysis_report.md')\n",
    "    print(f\"✅ レポート生成完了: {report_path}\")\n",
    "    print(\"🔍 レポートをMarkdownビューアーで確認してください！\")\n",
    "    print(\"\\nレポートには以下が含まれています:\")\n",
    "    print(\"  - データ概要\")\n",
    "    print(\"  - OLSモデル分析結果\")\n",
    "    print(\"  - SARIMAXモデル分析結果\")\n",
    "    print(\"  - Prophetモデル分析結果\")\n",
    "    print(\"  - モデル間の比較表\")\n",
    "    print(\"  - 可視化グラフ\")\n",
    "except Exception as e:\n",
    "    print(f\"❌ レポート生成中にエラーが発生しました: {e}\")"
   ]
  }
 ],
 "metadata": {
  "kernelspec": {
   "display_name": "interrupted-time-series-design",
   "language": "python",
   "name": "python3"
  },
  "language_info": {
   "codemirror_mode": {
    "name": "ipython",
    "version": 3
   },
   "file_extension": ".py",
   "mimetype": "text/x-python",
   "name": "python",
   "nbconvert_exporter": "python",
   "pygments_lexer": "ipython3",
   "version": "3.12.8"
  }
 },
 "nbformat": 4,
 "nbformat_minor": 5
}
